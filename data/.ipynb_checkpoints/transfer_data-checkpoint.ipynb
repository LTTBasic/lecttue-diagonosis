{
 "cells": [
  {
   "cell_type": "markdown",
   "id": "2be88b78-d519-4a0b-a8c9-883a017b8c40",
   "metadata": {
    "tags": []
   },
   "source": [
    "### 데이터 구조 확인"
   ]
  },
  {
   "cell_type": "code",
   "execution_count": 2,
   "id": "beebdf52",
   "metadata": {},
   "outputs": [],
   "source": [
    "import cv2, sys\n",
    "from matplotlib import pyplot as plt\n",
    "import numpy as np"
   ]
  },
  {
   "cell_type": "code",
   "execution_count": 1,
   "id": "7ba2e3f8",
   "metadata": {},
   "outputs": [
    {
     "ename": "NameError",
     "evalue": "name 'cv2' is not defined",
     "output_type": "error",
     "traceback": [
      "\u001b[0;31m---------------------------------------------------------------------------\u001b[0m",
      "\u001b[0;31mNameError\u001b[0m                                 Traceback (most recent call last)",
      "\u001b[0;32m/var/folders/8s/zfty55t14rzc703_v8ywmzc00000gn/T/ipykernel_48981/1888461424.py\u001b[0m in \u001b[0;36m<module>\u001b[0;34m\u001b[0m\n\u001b[0;32m----> 1\u001b[0;31m \u001b[0mimage\u001b[0m \u001b[0;34m=\u001b[0m \u001b[0mcv2\u001b[0m\u001b[0;34m.\u001b[0m\u001b[0mimread\u001b[0m\u001b[0;34m(\u001b[0m\u001b[0;34m'V006_77_1_09_05_03_12_1_0149e_20201021_50.jpg'\u001b[0m\u001b[0;34m)\u001b[0m\u001b[0;34m\u001b[0m\u001b[0;34m\u001b[0m\u001b[0m\n\u001b[0m\u001b[1;32m      2\u001b[0m \u001b[0mb\u001b[0m\u001b[0;34m,\u001b[0m\u001b[0mg\u001b[0m\u001b[0;34m,\u001b[0m\u001b[0mr\u001b[0m \u001b[0;34m=\u001b[0m \u001b[0mcv2\u001b[0m\u001b[0;34m.\u001b[0m\u001b[0msplit\u001b[0m\u001b[0;34m(\u001b[0m\u001b[0mimage\u001b[0m\u001b[0;34m)\u001b[0m\u001b[0;34m\u001b[0m\u001b[0;34m\u001b[0m\u001b[0m\n\u001b[1;32m      3\u001b[0m \u001b[0mimage\u001b[0m \u001b[0;34m=\u001b[0m \u001b[0mcv2\u001b[0m\u001b[0;34m.\u001b[0m\u001b[0mmerge\u001b[0m\u001b[0;34m(\u001b[0m\u001b[0;34m(\u001b[0m\u001b[0mr\u001b[0m\u001b[0;34m,\u001b[0m\u001b[0mg\u001b[0m\u001b[0;34m,\u001b[0m\u001b[0mb\u001b[0m\u001b[0;34m)\u001b[0m\u001b[0;34m)\u001b[0m\u001b[0;34m\u001b[0m\u001b[0;34m\u001b[0m\u001b[0m\n\u001b[1;32m      4\u001b[0m \u001b[0mimage2\u001b[0m \u001b[0;34m=\u001b[0m \u001b[0mcv2\u001b[0m\u001b[0;34m.\u001b[0m\u001b[0mrectangle\u001b[0m\u001b[0;34m(\u001b[0m\u001b[0mimage\u001b[0m\u001b[0;34m,\u001b[0m \u001b[0;34m(\u001b[0m\u001b[0mxtl\u001b[0m\u001b[0;34m,\u001b[0m \u001b[0mytl\u001b[0m\u001b[0;34m)\u001b[0m\u001b[0;34m,\u001b[0m \u001b[0;34m(\u001b[0m\u001b[0mxbr\u001b[0m\u001b[0;34m,\u001b[0m \u001b[0mybr\u001b[0m\u001b[0;34m)\u001b[0m\u001b[0;34m,\u001b[0m \u001b[0;34m(\u001b[0m\u001b[0;36m255\u001b[0m\u001b[0;34m,\u001b[0m \u001b[0;36m0\u001b[0m\u001b[0;34m,\u001b[0m \u001b[0;36m0\u001b[0m\u001b[0;34m)\u001b[0m\u001b[0;34m,\u001b[0m \u001b[0;36m30\u001b[0m\u001b[0;34m)\u001b[0m\u001b[0;34m\u001b[0m\u001b[0;34m\u001b[0m\u001b[0m\n\u001b[1;32m      5\u001b[0m \u001b[0mplt\u001b[0m\u001b[0;34m.\u001b[0m\u001b[0mimshow\u001b[0m\u001b[0;34m(\u001b[0m\u001b[0mimage2\u001b[0m\u001b[0;34m)\u001b[0m\u001b[0;34m\u001b[0m\u001b[0;34m\u001b[0m\u001b[0m\n",
      "\u001b[0;31mNameError\u001b[0m: name 'cv2' is not defined"
     ]
    }
   ],
   "source": [
    "image = cv2.imread('V006_77_1_09_05_03_12_1_0149e_20201021_50.jpg')\n",
    "b,g,r = cv2.split(image)\n",
    "image = cv2.merge((r,g,b))\n",
    "image2 = cv2.rectangle(image, (xtl, ytl), (xbr, ybr), (255, 0, 0), 30)\n",
    "plt.imshow(image2)\n",
    "plt.show()"
   ]
  },
  {
   "cell_type": "markdown",
   "id": "84d80e17-d8fd-41f7-90dd-60d062830221",
   "metadata": {},
   "source": [
    "### json data txt로 변환하기 (클래스, 좌표)"
   ]
  },
  {
   "cell_type": "code",
   "execution_count": 10,
   "id": "4edae7d8",
   "metadata": {},
   "outputs": [
    {
     "name": "stdout",
     "output_type": "stream",
     "text": [
      "518 1056 2544 2488\n",
      "0.5062830687830688 0.5859788359788359 0.669973544973545 0.47354497354497355\n",
      "9.1\n"
     ]
    }
   ],
   "source": [
    "import json\n",
    "with open(\"V006_77_1_09_05_03_12_1_0149e_20201021_50.jpg.json\", \"r\", encoding=\"utf8\") as f:\n",
    "    contents = f.read()\n",
    "    json_data = json.loads(contents)\n",
    "\n",
    "xtl = json_data[\"annotations\"][\"points\"][0]['xtl']\n",
    "ytl = json_data[\"annotations\"][\"points\"][0]['ytl']\n",
    "xbr = json_data[\"annotations\"][\"points\"][0]['xbr']\n",
    "ybr = json_data[\"annotations\"][\"points\"][0]['ybr']\n",
    "print(xtl,ytl,xbr,ybr)\n",
    "w = json_data['description']['width']\n",
    "h = json_data['description']['height']\n",
    "x_center = (xtl + (xbr-xtl)/2)/w\n",
    "y_center = (ytl + (ybr-ytl)/2)/h\n",
    "x = (xbr-xtl)/w\n",
    "y = (ybr-ytl)/h\n",
    "\n",
    "print(x_center,y_center,x,y)\n",
    "name = json_data['annotations']['disease']\n",
    "risk = json_data['annotations']['risk']\n",
    "print(name+(risk*0.1))"
   ]
  },
  {
   "cell_type": "code",
   "execution_count": null,
   "id": "c888a6b4",
   "metadata": {},
   "outputs": [],
   "source": [
    "import os \n",
    "import json\n",
    "from glob import glob\n",
    "\n",
    "file_list = glob('C:\\\\Users\\\\eorl6\\\\Desktop\\\\project basic\\\\ltt_data\\\\Training\\\\label\\\\*.json')\n",
    "\n",
    "i = 0\n",
    "ob = 0\n",
    "st = \"\"\n",
    "for file in file_list:\n",
    "    with open(file_list[i],'r') as f:\n",
    "        json_data = json.load(f)\n",
    "    \n",
    "    file_name = json_data['description']['image'].split('.')[0] #yolov5 모델의 label 파일은 이름에 확장자가 있으면 안된다.\n",
    "    xtl = json_data['annotations']['points'][0]['xtl']\n",
    "    ytl = json_data['annotations']['points'][0]['ytl']\n",
    "    xbr = json_data['annotations']['points'][0]['xbr']\n",
    "    ybr = json_data['annotations']['points'][0]['ybr']\n",
    "\n",
    "    w = json_data['description']['width']\n",
    "    h = json_data['description']['height']\n",
    "    \n",
    "    disease = json_data['annotations']['disease']\n",
    "    risk = json_data['annotations']['risk']\n",
    "\n",
    "    x_center = (xtl + (xbr-xtl)/2)/w\n",
    "    y_center = (ytl + (ybr-ytl)/2)/h\n",
    "    x = (xbr-xtl)/w\n",
    "    y = (ybr-ytl)/h\n",
    "    \n",
    "    if disease == 0:\n",
    "        ob = 0\n",
    "    elif disease == 9:\n",
    "        if risk == 1:\n",
    "            ob = 1\n",
    "        elif risk == 2:\n",
    "            ob = 2\n",
    "        elif risk == 3:\n",
    "            ob = 3\n",
    "    elif disease == 10:\n",
    "        if risk == 1:\n",
    "            ob = 4\n",
    "        elif risk == 2:\n",
    "            ob = 5\n",
    "        elif risk == 3:\n",
    "            ob = 6\n",
    "    \n",
    "    fw = open('C:\\\\Users\\\\eorl6\\\\Desktop\\\\project basic\\\\ltt_data\\\\Training\\\\train_label\\\\'+str(file_name)+\".txt\", 'w')\n",
    "    fw.write(str(ob)+' '+str(x_center)+' '+str(y_center)+' '+str(x)+' '+str(y)+'\\n')\n",
    "    f.close()\n",
    "    \n",
    "    i = i + 1"
   ]
  },
  {
   "cell_type": "code",
   "execution_count": 21,
   "id": "e1692d01",
   "metadata": {},
   "outputs": [],
   "source": [
    "#yolov5 데이터로 변환 json -> txt\n",
    "import os \n",
    "import json\n",
    "from glob import glob\n",
    "file_list = glob('/Users/dackyy/datasets/train/*.jpg')\n",
    "\n",
    "i = 0\n",
    "path = 'datasets/images/train '\n",
    "st = \"\"\n",
    "for file in file_list:\n",
    "    with open(file_list[i],'r') as f:\n",
    "        json_data = json.load(f)\n",
    "    file_name = json_data['description']['image']\n",
    "    \n",
    "    st += (path + file_name + '\\n')\n",
    "        \n",
    "fw = open('/Users/dackyy/Desktop/data/test'+\".txt\", 'w')\n",
    "fw.write(st)\n",
    "f.close()"
   ]
  },
  {
   "cell_type": "code",
   "execution_count": null,
   "id": "0a1a7af6",
   "metadata": {
    "scrolled": true
   },
   "outputs": [],
   "source": [
    "#이미지파일과 라벨링파일 읽어오기\n",
    "from glob import glob\n",
    "img_list = glob('C:\\\\Users\\\\__\\\\Desktop\\\\data\\\\run\\\\train\\\\images\\\\*')\n",
    "txt_list = glob('C:\\\\Users\\\\__\\\\Desktop\\\\data\\\\run\\\\train\\\\labels\\\\*.txt')\n",
    "print(len(img_list), len(txt_list))"
   ]
  },
  {
   "cell_type": "code",
   "execution_count": null,
   "id": "0ec8dd78",
   "metadata": {},
   "outputs": [],
   "source": []
  },
  {
   "cell_type": "code",
   "execution_count": null,
   "id": "877e4023",
   "metadata": {},
   "outputs": [],
   "source": []
  }
 ],
 "metadata": {
  "kernelspec": {
   "display_name": "Python 3",
   "language": "python",
   "name": "python3"
  },
  "language_info": {
   "codemirror_mode": {
    "name": "ipython",
    "version": 3
   },
   "file_extension": ".py",
   "mimetype": "text/x-python",
   "name": "python",
   "nbconvert_exporter": "python",
   "pygments_lexer": "ipython3",
   "version": "3.8.8"
  }
 },
 "nbformat": 4,
 "nbformat_minor": 5
}
