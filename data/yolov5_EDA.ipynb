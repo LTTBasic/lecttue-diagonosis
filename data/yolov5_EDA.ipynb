{
 "cells": [
  {
   "cell_type": "code",
   "execution_count": 1,
   "id": "713f4804",
   "metadata": {},
   "outputs": [],
   "source": [
    "import numpy as np\n",
    "import pandas as pd\n",
    "from glob import glob\n",
    "import os\n",
    "import json"
   ]
  },
  {
   "cell_type": "code",
   "execution_count": 13,
   "id": "ffa01574",
   "metadata": {},
   "outputs": [],
   "source": [
    "IMG_PATH = glob(\"/home/ubuntu/lecttue-diagonosis/data/Training/image1/*\")\n",
    "LAB_PATH = glob(\"/home/ubuntu/lecttue-diagonosis/data/Training/label/*\")"
   ]
  },
  {
   "cell_type": "code",
   "execution_count": 14,
   "id": "4ec12832",
   "metadata": {},
   "outputs": [],
   "source": [
    "def get_label(path):\n",
    "    \n",
    "    image = []\n",
    "    risk = []\n",
    "    disease = []\n",
    "    target = {}\n",
    "    \n",
    "    for file in path:\n",
    "        with open(file, 'r') as f:\n",
    "            json_file = json.load(f)\n",
    "            \n",
    "        image.append(json_file['description']['image'])\n",
    "        risk.append(json_file['annotations']['risk'])\n",
    "        disease.append(json_file['annotations']['disease'])\n",
    "    \n",
    "    target[\"disease\"] = disease    \n",
    "    target[\"risk\"] = risk\n",
    "    target[\"ID\"] = image\n",
    "    \n",
    "    \n",
    "    return target"
   ]
  },
  {
   "cell_type": "code",
   "execution_count": 15,
   "id": "d6792d73",
   "metadata": {},
   "outputs": [
    {
     "data": {
      "text/plain": [
       "43542"
      ]
     },
     "execution_count": 15,
     "metadata": {},
     "output_type": "execute_result"
    }
   ],
   "source": [
    "df = pd.DataFrame(get_label(LAB_PATH))\n",
    "len(df)"
   ]
  },
  {
   "cell_type": "code",
   "execution_count": 23,
   "id": "984fb5af",
   "metadata": {},
   "outputs": [],
   "source": [
    "normala = df.loc[df.disease == 9, :]\n",
    "normalb = df.loc[df.disease == 10, :]\n",
    "normal = df.loc[df.disease == 0, :]"
   ]
  },
  {
   "cell_type": "code",
   "execution_count": 20,
   "id": "125ccc2e",
   "metadata": {},
   "outputs": [
    {
     "data": {
      "text/plain": [
       "<AxesSubplot:>"
      ]
     },
     "execution_count": 20,
     "metadata": {},
     "output_type": "execute_result"
    },
    {
     "data": {
      "image/png": "[encoded data removed]",
      "text/plain": [
       "<Figure size 432x288 with 1 Axes>"
      ]
     },
     "metadata": {
      "needs_background": "light"
     },
     "output_type": "display_data"
    }
   ],
   "source": [
    "normala['risk'].hist()"
   ]
  },
  {
   "cell_type": "code",
   "execution_count": 21,
   "id": "4ace5e65",
   "metadata": {},
   "outputs": [
    {
     "data": {
      "text/plain": [
       "3    9405\n",
       "2    5642\n",
       "1    2849\n",
       "0      12\n",
       "Name: risk, dtype: int64"
      ]
     },
     "execution_count": 21,
     "metadata": {},
     "output_type": "execute_result"
    }
   ],
   "source": [
    "normala['risk'].value_counts()"
   ]
  },
  {
   "cell_type": "code",
   "execution_count": 22,
   "id": "ce70b0dd",
   "metadata": {},
   "outputs": [
    {
     "data": {
      "text/plain": [
       "1    7301\n",
       "2    5498\n",
       "3    2071\n",
       "0       1\n",
       "Name: risk, dtype: int64"
      ]
     },
     "execution_count": 22,
     "metadata": {},
     "output_type": "execute_result"
    }
   ],
   "source": [
    "normalb['risk'].value_counts()"
   ]
  },
  {
   "cell_type": "code",
   "execution_count": 25,
   "id": "4de4ae00",
   "metadata": {},
   "outputs": [
    {
     "data": {
      "text/plain": [
       "0    10751\n",
       "Name: disease, dtype: int64"
      ]
     },
     "execution_count": 25,
     "metadata": {},
     "output_type": "execute_result"
    }
   ],
   "source": [
    "normal['disease'].value_counts()"
   ]
  },
  {
   "cell_type": "code",
   "execution_count": null,
   "id": "028f19bb",
   "metadata": {},
   "outputs": [],
   "source": []
  }
 ],
 "metadata": {
  "kernelspec": {
   "display_name": "Python 3 (ipykernel)",
   "language": "python",
   "name": "python3"
  },
  "language_info": {
   "codemirror_mode": {
    "name": "ipython",
    "version": 3
   },
   "file_extension": ".py",
   "mimetype": "text/x-python",
   "name": "python",
   "nbconvert_exporter": "python",
   "pygments_lexer": "ipython3",
   "version": "3.9.7"
  }
 },
 "nbformat": 4,
 "nbformat_minor": 5
}
