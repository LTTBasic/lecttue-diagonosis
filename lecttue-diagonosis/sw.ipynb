{
 "cells": [
  {
   "cell_type": "markdown",
   "metadata": {},
   "source": [
    "# 이거해야됨\n"
   ]
  },
  {
   "cell_type": "code",
   "execution_count": null,
   "metadata": {},
   "outputs": [],
   "source": [
    "%cd /Users/jeong-geun-yeong/lecttue-diagonosis/yolov5\n",
    "!pip install -r requirements.txt "
   ]
  },
  {
   "cell_type": "markdown",
   "metadata": {},
   "source": [
    "--data --name 부분 경로 설정해야됨"
   ]
  },
  {
   "cell_type": "code",
   "execution_count": 6,
   "metadata": {},
   "outputs": [
    {
     "name": "stdout",
     "output_type": "stream",
     "text": [
      "/Users/jeong-geun-yeong/lecttue-diagonosis/yolov5\n",
      "\u001b[34m\u001b[1mwandb\u001b[0m: Currently logged in as: \u001b[33mgoldpow\u001b[0m (use `wandb login --relogin` to force relogin)\n",
      "\u001b[34m\u001b[1mtrain: \u001b[0mweights=yolov5s.pt, cfg=./models/yolov5s.yaml, data=/Users/jeong-geun-yeong/lecttue-diagonosis/yolov5/data/sangchu.yaml, hyp=data/hyps/hyp.scratch-low.yaml, epochs=1, batch_size=32, imgsz=640, rect=False, resume=False, nosave=False, noval=False, noautoanchor=False, evolve=None, bucket=, cache=ram, image_weights=False, device=, multi_scale=False, single_cls=False, optimizer=SGD, sync_bn=False, workers=8, project=runs/train, name=/Users/jeong-geun-yeong/Desktop/Project/, exist_ok=False, quad=False, cos_lr=False, label_smoothing=0.0, patience=100, freeze=[0], save_period=-1, local_rank=-1, entity=None, upload_dataset=False, bbox_interval=-1, artifact_alias=latest\n",
      "\u001b[34m\u001b[1mgithub: \u001b[0mskipping check (offline), for updates see https://github.com/ultralytics/yolov5\n",
      "YOLOv5 🚀 v6.1-104-g741fac8 torch 1.10.1 CPU\n",
      "\n",
      "\u001b[34m\u001b[1mhyperparameters: \u001b[0mlr0=0.01, lrf=0.01, momentum=0.937, weight_decay=0.0005, warmup_epochs=3.0, warmup_momentum=0.8, warmup_bias_lr=0.1, box=0.05, cls=0.5, cls_pw=1.0, obj=1.0, obj_pw=1.0, iou_t=0.2, anchor_t=4.0, fl_gamma=0.0, hsv_h=0.015, hsv_s=0.7, hsv_v=0.4, degrees=0.0, translate=0.1, scale=0.5, shear=0.0, perspective=0.0, flipud=0.0, fliplr=0.5, mosaic=1.0, mixup=0.0, copy_paste=0.0\n",
      "\u001b[34m\u001b[1mTensorBoard: \u001b[0mStart with 'tensorboard --logdir /Users/jeong-geun-yeong/Desktop', view at http://localhost:6006/\n",
      "\u001b[34m\u001b[1mwandb\u001b[0m: wandb version 0.12.12 is available!  To upgrade, please run:\n",
      "\u001b[34m\u001b[1mwandb\u001b[0m:  $ pip install wandb --upgrade\n",
      "\u001b[34m\u001b[1mwandb\u001b[0m: Tracking run with wandb version 0.12.11\n",
      "\u001b[34m\u001b[1mwandb\u001b[0m: Run data is saved locally in \u001b[35m\u001b[1m/Users/jeong-geun-yeong/lecttue-diagonosis/yolov5/wandb/run-20220406_143559-31ys9hvd\u001b[0m\n",
      "\u001b[34m\u001b[1mwandb\u001b[0m: Run \u001b[1m`wandb offline`\u001b[0m to turn off syncing.\n",
      "\u001b[34m\u001b[1mwandb\u001b[0m: Syncing run \u001b[33m/Users/jeong-geun-yeong/Desktop/Project/\u001b[0m\n",
      "\u001b[34m\u001b[1mwandb\u001b[0m: ⭐️ View project at \u001b[34m\u001b[4mhttps://wandb.ai/goldpow/YOLOv5\u001b[0m\n",
      "\u001b[34m\u001b[1mwandb\u001b[0m: 🚀 View run at \u001b[34m\u001b[4mhttps://wandb.ai/goldpow/YOLOv5/runs/31ys9hvd\u001b[0m\n",
      "Downloading https://github.com/ultralytics/yolov5/releases/download/v6.1/yolov5s.pt to yolov5s.pt...\n",
      "100%|██████████████████████████████████████| 14.1M/14.1M [00:07<00:00, 2.08MB/s]\n",
      "\n",
      "\n",
      "                 from  n    params  module                                  arguments                     \n",
      "  0                -1  1      3520  models.common.Conv                      [3, 32, 6, 2, 2]              \n",
      "  1                -1  1     18560  models.common.Conv                      [32, 64, 3, 2]                \n",
      "  2                -1  1     18816  models.common.C3                        [64, 64, 1]                   \n",
      "  3                -1  1     73984  models.common.Conv                      [64, 128, 3, 2]               \n",
      "  4                -1  2    115712  models.common.C3                        [128, 128, 2]                 \n",
      "  5                -1  1    295424  models.common.Conv                      [128, 256, 3, 2]              \n",
      "  6                -1  3    625152  models.common.C3                        [256, 256, 3]                 \n",
      "  7                -1  1   1180672  models.common.Conv                      [256, 512, 3, 2]              \n",
      "  8                -1  1   1182720  models.common.C3                        [512, 512, 1]                 \n",
      "  9                -1  1    656896  models.common.SPPF                      [512, 512, 5]                 \n",
      " 10                -1  1    131584  models.common.Conv                      [512, 256, 1, 1]              \n",
      " 11                -1  1         0  torch.nn.modules.upsampling.Upsample    [None, 2, 'nearest']          \n",
      " 12           [-1, 6]  1         0  models.common.Concat                    [1]                           \n",
      " 13                -1  1    361984  models.common.C3                        [512, 256, 1, False]          \n",
      " 14                -1  1     33024  models.common.Conv                      [256, 128, 1, 1]              \n",
      " 15                -1  1         0  torch.nn.modules.upsampling.Upsample    [None, 2, 'nearest']          \n",
      " 16           [-1, 4]  1         0  models.common.Concat                    [1]                           \n",
      " 17                -1  1     90880  models.common.C3                        [256, 128, 1, False]          \n",
      " 18                -1  1    147712  models.common.Conv                      [128, 128, 3, 2]              \n",
      " 19          [-1, 14]  1         0  models.common.Concat                    [1]                           \n",
      " 20                -1  1    296448  models.common.C3                        [256, 256, 1, False]          \n",
      " 21                -1  1    590336  models.common.Conv                      [256, 256, 3, 2]              \n",
      " 22          [-1, 10]  1         0  models.common.Concat                    [1]                           \n",
      " 23                -1  1   1182720  models.common.C3                        [512, 512, 1, False]          \n",
      " 24      [17, 20, 23]  1     16182  models.yolo.Detect                      [1, [[10, 13, 16, 30, 33, 23], [30, 61, 62, 45, 59, 119], [116, 90, 156, 198, 373, 326]], [128, 256, 512]]\n",
      "YOLOv5s summary: 270 layers, 7022326 parameters, 7022326 gradients, 15.8 GFLOPs\n",
      "\n",
      "Transferred 342/349 items from yolov5s.pt\n",
      "Scaled weight_decay = 0.0005\n",
      "\u001b[34m\u001b[1moptimizer:\u001b[0m SGD with parameter groups 57 weight (no decay), 60 weight, 60 bias\n",
      "\u001b[34m\u001b[1mtrain: \u001b[0mScanning '/Users/jeong-geun-yeong/lecttue-diagonosis/data/labels/train' i\u001b[0m\u001b[34m\u001b[1mwandb\u001b[0m: Currently logged in as: \u001b[33mgoldpow\u001b[0m (use `wandb login --relogin` to force relogin)\n",
      "\u001b[34m\u001b[1mwandb\u001b[0m: Currently logged in as: \u001b[33mgoldpow\u001b[0m (use `wandb login --relogin` to force relogin)\n",
      "\u001b[34m\u001b[1mtrain: \u001b[0mScanning '/Users/jeong-geun-yeong/lecttue-diagonosis/data/labels/train' i\u001b[0m\n",
      "\u001b[34m\u001b[1mtrain: \u001b[0mNew cache created: /Users/jeong-geun-yeong/lecttue-diagonosis/data/labels/train.cache\n",
      "\u001b[34m\u001b[1mtrain: \u001b[0mCaching images (0.0GB ram): 100%|██████████| 7/7 [00:00<00:00, 13.02it/s]\u001b[0m\n",
      "\u001b[34m\u001b[1mwandb\u001b[0m: Currently logged in as: \u001b[33mgoldpow\u001b[0m (use `wandb login --relogin` to force relogin)\n",
      "\u001b[34m\u001b[1mwandb\u001b[0m: Currently logged in as: \u001b[33mgoldpow\u001b[0m (use `wandb login --relogin` to force relogin)\n",
      "\u001b[34m\u001b[1mwandb\u001b[0m: Currently logged in as: \u001b[33mgoldpow\u001b[0m (use `wandb login --relogin` to force relogin)\n",
      "\u001b[34m\u001b[1mwandb\u001b[0m: Currently logged in as: \u001b[33mgoldpow\u001b[0m (use `wandb login --relogin` to force relogin)\n",
      "\u001b[34m\u001b[1mval: \u001b[0mScanning '/Users/jeong-geun-yeong/lecttue-diagonosis/data/labels/valid' ima\u001b[0m\u001b[34m\u001b[1mwandb\u001b[0m: Currently logged in as: \u001b[33mgoldpow\u001b[0m (use `wandb login --relogin` to force relogin)\n",
      "\u001b[34m\u001b[1mval: \u001b[0mScanning '/Users/jeong-geun-yeong/lecttue-diagonosis/data/labels/valid' ima\u001b[0m\u001b[34m\u001b[1mwandb\u001b[0m: Currently logged in as: \u001b[33mgoldpow\u001b[0m (use `wandb login --relogin` to force relogin)\n",
      "\u001b[34m\u001b[1mwandb\u001b[0m: Currently logged in as: \u001b[33mgoldpow\u001b[0m (use `wandb login --relogin` to force relogin)\n",
      "\u001b[34m\u001b[1mval: \u001b[0mScanning '/Users/jeong-geun-yeong/lecttue-diagonosis/data/labels/valid' ima\u001b[0m\n",
      "\u001b[34m\u001b[1mval: \u001b[0mNew cache created: /Users/jeong-geun-yeong/lecttue-diagonosis/data/labels/valid.cache\n",
      "\u001b[34m\u001b[1mval: \u001b[0mCaching images (0.0GB ram): 100%|██████████| 4/4 [00:00<00:00, 12.71it/s]  \u001b[0m\n",
      "\u001b[34m\u001b[1mwandb\u001b[0m: Currently logged in as: \u001b[33mgoldpow\u001b[0m (use `wandb login --relogin` to force relogin)\n",
      "\u001b[34m\u001b[1mwandb\u001b[0m: Currently logged in as: \u001b[33mgoldpow\u001b[0m (use `wandb login --relogin` to force relogin)\n",
      "\u001b[34m\u001b[1mwandb\u001b[0m: Currently logged in as: \u001b[33mgoldpow\u001b[0m (use `wandb login --relogin` to force relogin)\n",
      "\u001b[34m\u001b[1mwandb\u001b[0m: Currently logged in as: \u001b[33mgoldpow\u001b[0m (use `wandb login --relogin` to force relogin)\n",
      "Plotting labels to /Users/jeong-geun-yeong/Desktop/Project9/labels.jpg... \n",
      "\n",
      "\u001b[34m\u001b[1mAutoAnchor: \u001b[0m5.29 anchors/target, 1.000 Best Possible Recall (BPR). Current anchors are a good fit to dataset ✅\n",
      "Image sizes 640 train, 640 val\n",
      "Using 4 dataloader workers\n",
      "Logging results to \u001b[1m/Users/jeong-geun-yeong/Desktop/Project9\u001b[0m\n",
      "Starting training for 1 epochs...\n",
      "\n",
      "     Epoch   gpu_mem       box       obj       cls    labels  img_size\n",
      "       0/0        0G    0.1199      0.03         0         9       640: 100%|███\n",
      "               Class     Images     Labels          P          R     mAP@.5 mAP@WARNING: NMS time limit 0.220s exceeded\n",
      "               Class     Images     Labels          P          R     mAP@.5 mAP@\n",
      "                 all          4          4    0.00503       0.25    0.00258   0.000515\n",
      "\n",
      "1 epochs completed in 0.005 hours.\n",
      "Optimizer stripped from /Users/jeong-geun-yeong/Desktop/Project9/weights/last.pt, 14.3MB\n",
      "Optimizer stripped from /Users/jeong-geun-yeong/Desktop/Project9/weights/best.pt, 14.3MB\n",
      "\n",
      "Validating /Users/jeong-geun-yeong/Desktop/Project9/weights/best.pt...\n",
      "Fusing layers... \n",
      "YOLOv5s summary: 213 layers, 7012822 parameters, 0 gradients, 15.8 GFLOPs\n",
      "               Class     Images     Labels          P          R     mAP@.5 mAP@WARNING: NMS time limit 0.220s exceeded\n",
      "               Class     Images     Labels          P          R     mAP@.5 mAP@\n",
      "                 all          4          4    0.00502       0.25     0.0026    0.00052\n",
      "\n",
      "\u001b[34m\u001b[1mwandb\u001b[0m: Waiting for W&B process to finish... \u001b[32m(success).\u001b[0m\n",
      "\u001b[34m\u001b[1mwandb\u001b[0m:                                                                                \n",
      "\u001b[34m\u001b[1mwandb\u001b[0m: \n",
      "\u001b[34m\u001b[1mwandb\u001b[0m: Run history:\n",
      "\u001b[34m\u001b[1mwandb\u001b[0m:      metrics/mAP_0.5 ▁█\n",
      "\u001b[34m\u001b[1mwandb\u001b[0m: metrics/mAP_0.5:0.95 ▁█\n",
      "\u001b[34m\u001b[1mwandb\u001b[0m:    metrics/precision █▁\n",
      "\u001b[34m\u001b[1mwandb\u001b[0m:       metrics/recall ▁▁\n",
      "\u001b[34m\u001b[1mwandb\u001b[0m:       train/box_loss ▁\n",
      "\u001b[34m\u001b[1mwandb\u001b[0m:       train/cls_loss ▁\n",
      "\u001b[34m\u001b[1mwandb\u001b[0m:       train/obj_loss ▁\n",
      "\u001b[34m\u001b[1mwandb\u001b[0m:         val/box_loss ▁█\n",
      "\u001b[34m\u001b[1mwandb\u001b[0m:         val/cls_loss ▁▁\n",
      "\u001b[34m\u001b[1mwandb\u001b[0m:         val/obj_loss █▁\n",
      "\u001b[34m\u001b[1mwandb\u001b[0m:                x/lr0 ▁\n",
      "\u001b[34m\u001b[1mwandb\u001b[0m:                x/lr1 ▁\n",
      "\u001b[34m\u001b[1mwandb\u001b[0m:                x/lr2 ▁\n",
      "\u001b[34m\u001b[1mwandb\u001b[0m: \n",
      "\u001b[34m\u001b[1mwandb\u001b[0m: Run summary:\n",
      "\u001b[34m\u001b[1mwandb\u001b[0m:           best/epoch 0\n",
      "\u001b[34m\u001b[1mwandb\u001b[0m:         best/mAP_0.5 0.00258\n",
      "\u001b[34m\u001b[1mwandb\u001b[0m:    best/mAP_0.5:0.95 0.00052\n",
      "\u001b[34m\u001b[1mwandb\u001b[0m:       best/precision 0.00503\n",
      "\u001b[34m\u001b[1mwandb\u001b[0m:          best/recall 0.25\n",
      "\u001b[34m\u001b[1mwandb\u001b[0m:      metrics/mAP_0.5 0.0026\n",
      "\u001b[34m\u001b[1mwandb\u001b[0m: metrics/mAP_0.5:0.95 0.00052\n",
      "\u001b[34m\u001b[1mwandb\u001b[0m:    metrics/precision 0.00502\n",
      "\u001b[34m\u001b[1mwandb\u001b[0m:       metrics/recall 0.25\n",
      "\u001b[34m\u001b[1mwandb\u001b[0m:       train/box_loss 0.11987\n",
      "\u001b[34m\u001b[1mwandb\u001b[0m:       train/cls_loss 0.0\n",
      "\u001b[34m\u001b[1mwandb\u001b[0m:       train/obj_loss 0.03\n",
      "\u001b[34m\u001b[1mwandb\u001b[0m:         val/box_loss 0.08315\n",
      "\u001b[34m\u001b[1mwandb\u001b[0m:         val/cls_loss 0.0\n",
      "\u001b[34m\u001b[1mwandb\u001b[0m:         val/obj_loss 0.03363\n",
      "\u001b[34m\u001b[1mwandb\u001b[0m:                x/lr0 0.0\n",
      "\u001b[34m\u001b[1mwandb\u001b[0m:                x/lr1 0.0\n",
      "\u001b[34m\u001b[1mwandb\u001b[0m:                x/lr2 0.1\n",
      "\u001b[34m\u001b[1mwandb\u001b[0m: \n",
      "\u001b[34m\u001b[1mwandb\u001b[0m: Synced \u001b[33m/Users/jeong-geun-yeong/Desktop/Project/\u001b[0m: \u001b[34m\u001b[4mhttps://wandb.ai/goldpow/YOLOv5/runs/31ys9hvd\u001b[0m\n",
      "\u001b[34m\u001b[1mwandb\u001b[0m: Synced 6 W&B file(s), 12 media file(s), 1 artifact file(s) and 0 other file(s)\n",
      "\u001b[34m\u001b[1mwandb\u001b[0m: Find logs at: \u001b[35m\u001b[1m./wandb/run-20220406_143559-31ys9hvd/logs\u001b[0m\n",
      "Results saved to \u001b[1m/Users/jeong-geun-yeong/Desktop/Project9\u001b[0m\n"
     ]
    }
   ],
   "source": [
    "%cd /Users/jeong-geun-yeong/lecttue-diagonosis/yolov5\n",
    "\n",
    "!python train.py --img 640 --batch 32 --epochs 1 --data /Users/jeong-geun-yeong/lecttue-diagonosis/yolov5/data/sangchu.yaml --cfg ./models/yolov5s.yaml --weights yolov5s.pt --name /Users/jeong-geun-yeong/Desktop/Project/ --cache"
   ]
  },
  {
   "cell_type": "markdown",
   "metadata": {
    "id": "scPz8QfehzC-"
   },
   "source": [
    "# YOLO & DATA"
   ]
  },
  {
   "cell_type": "code",
   "execution_count": null,
   "metadata": {
    "colab": {
     "base_uri": "https://localhost:8080/"
    },
    "id": "DJ2TguG_G-N-",
    "outputId": "3b34193f-0dc4-42fc-b79c-f9bd158b88c7"
   },
   "outputs": [],
   "source": [
    "#yolov5를 사용하기위한 요구사항 설치\n",
    "%cd /Users/jeong-geun-yeong/lecttue-diagonosis/\n",
    "!git clone https://github.com/ultralytics/yolov5\n",
    "%cd yolov5\n",
    "!pip install -r requirements.txt \n",
    "\n",
    "import torch\n",
    "import os\n",
    "from IPython.display import Image, clear_output\n",
    "\n",
    "path = '/Users/jeong-geun-yeong/lecttue-diagonosis/datasets'\n",
    "\n",
    "os.mkdir(path)\n",
    "\n",
    "print(f\"Setup complete. Using torch {torch.__version__}({torch.cuda.get_device_properties(0).name if torch.cuda.is_available() else 'cpu'})\")"
   ]
  },
  {
   "cell_type": "code",
   "execution_count": 1,
   "metadata": {
    "colab": {
     "base_uri": "https://localhost:8080/"
    },
    "id": "sGlWRHfHHH0G",
    "outputId": "c40ee6b4-b83d-4b44-e932-642e07c013ba"
   },
   "outputs": [
    {
     "ename": "FileNotFoundError",
     "evalue": "[Errno 2] No such file or directory: '/Users/jeong-geun-yeong/data/images/train/V006_77_0_00_05_03_11_0_b04_20201119_0000_S01_1.jpg.json'",
     "output_type": "error",
     "traceback": [
      "\u001b[0;31m---------------------------------------------------------------------------\u001b[0m",
      "\u001b[0;31mFileNotFoundError\u001b[0m                         Traceback (most recent call last)",
      "\u001b[0;32m/var/folders/1p/h9kyctk92cg4bt0dqrfsqtz40000gn/T/ipykernel_821/1426310001.py\u001b[0m in \u001b[0;36m<module>\u001b[0;34m\u001b[0m\n\u001b[1;32m      2\u001b[0m \u001b[0;32mimport\u001b[0m \u001b[0mjson\u001b[0m\u001b[0;34m\u001b[0m\u001b[0;34m\u001b[0m\u001b[0m\n\u001b[1;32m      3\u001b[0m \u001b[0;34m\u001b[0m\u001b[0m\n\u001b[0;32m----> 4\u001b[0;31m \u001b[0;32mwith\u001b[0m \u001b[0mopen\u001b[0m\u001b[0;34m(\u001b[0m\u001b[0;34m'/Users/jeong-geun-yeong/data/images/train/V006_77_0_00_05_03_11_0_b04_20201119_0000_S01_1.jpg.json'\u001b[0m\u001b[0;34m,\u001b[0m \u001b[0;34m'r'\u001b[0m\u001b[0;34m)\u001b[0m \u001b[0;32mas\u001b[0m \u001b[0mf\u001b[0m\u001b[0;34m:\u001b[0m\u001b[0;34m\u001b[0m\u001b[0;34m\u001b[0m\u001b[0m\n\u001b[0m\u001b[1;32m      5\u001b[0m     \u001b[0mjson_data\u001b[0m \u001b[0;34m=\u001b[0m \u001b[0mjson\u001b[0m\u001b[0;34m.\u001b[0m\u001b[0mload\u001b[0m\u001b[0;34m(\u001b[0m\u001b[0mf\u001b[0m\u001b[0;34m)\u001b[0m\u001b[0;34m\u001b[0m\u001b[0;34m\u001b[0m\u001b[0m\n\u001b[1;32m      6\u001b[0m \u001b[0mprint\u001b[0m\u001b[0;34m(\u001b[0m\u001b[0mjson_data\u001b[0m\u001b[0;34m[\u001b[0m\u001b[0;34m'annotations'\u001b[0m\u001b[0;34m]\u001b[0m\u001b[0;34m[\u001b[0m\u001b[0;34m'points'\u001b[0m\u001b[0;34m]\u001b[0m\u001b[0;34m[\u001b[0m\u001b[0;36m0\u001b[0m\u001b[0;34m]\u001b[0m\u001b[0;34m)\u001b[0m\u001b[0;34m\u001b[0m\u001b[0;34m\u001b[0m\u001b[0m\n",
      "\u001b[0;31mFileNotFoundError\u001b[0m: [Errno 2] No such file or directory: '/Users/jeong-geun-yeong/data/images/train/V006_77_0_00_05_03_11_0_b04_20201119_0000_S01_1.jpg.json'"
     ]
    }
   ],
   "source": [
    "#데이터 구조 파악\n",
    "import json\n",
    "\n",
    "with open('/Users/jeong-geun-yeong/data/images/train/V006_77_0_00_05_03_11_0_b04_20201119_0000_S01_1.jpg.json', 'r') as f:\n",
    "    json_data = json.load(f)\n",
    "print(json_data['annotations']['points'][0])\n",
    "print(json_data['description']['image'])\n",
    "print(json_data['description']['height'])\n",
    "print(json_data['description']['width'])\n",
    "print(json_data)\n",
    "\n",
    "xtl = json_data['annotations']['points'][0]['xtl']\n",
    "ytl = json_data['annotations']['points'][0]['ytl']\n",
    "xbr = json_data['annotations']['points'][0]['xbr']\n",
    "ybr = json_data['annotations']['points'][0]['ybr']\n",
    "\n",
    "w = json_data['description']['width']\n",
    "h = json_data['description']['height']\n",
    "\n",
    "print(xtl,ytl,xbr,ybr)\n",
    "\n",
    "x_center = (xtl + (xbr-xtl)/2)/w\n",
    "y_center = (ytl + (ybr-ytl)/2)/h\n",
    "x = (xbr-xtl)/w\n",
    "y = (ybr-ytl)/h\n",
    "\n",
    "print(x_center,y_center,x,y)\n",
    "name = json_data['annotations']['disease']\n",
    "risk = json_data['annotations']['risk']\n",
    "print(name+(risk*0.1))"
   ]
  },
  {
   "cell_type": "markdown",
   "metadata": {
    "id": "JRgi501XiCQu"
   },
   "source": [
    "# TRAIN"
   ]
  },
  {
   "cell_type": "code",
   "execution_count": null,
   "metadata": {
    "colab": {
     "base_uri": "https://localhost:8080/"
    },
    "id": "lVfokLaFUzi8",
    "outputId": "0aacc827-feae-440f-e07a-83056b54aebc"
   },
   "outputs": [],
   "source": [
    "#이미지파일과 라벨링파일 읽어오기\n",
    "from glob import glob\n",
    "img_list = glob('C:\\\\Users\\\\__\\\\Desktop\\\\data\\\\run\\\\train\\\\images\\\\*')\n",
    "txt_list = glob('C:\\\\Users\\\\__\\\\Desktop\\\\data\\\\run\\\\train\\\\labels\\\\*.txt')\n",
    "print(len(img_list), len(txt_list))"
   ]
  },
  {
   "cell_type": "code",
   "execution_count": null,
   "metadata": {
    "colab": {
     "base_uri": "https://localhost:8080/"
    },
    "id": "E1jxHHm58J24",
    "outputId": "5781e083-bf66-4d98-9f7d-81c284ea877b"
   },
   "outputs": [],
   "source": [
    "a = img_list[1].split('_')[5]\n",
    "print(a)"
   ]
  },
  {
   "cell_type": "code",
   "execution_count": null,
   "metadata": {
    "colab": {
     "base_uri": "https://localhost:8080/"
    },
    "id": "8jVUGLP6jsw6",
    "outputId": "9bb8f396-cdc2-4cc0-990d-67427519d23d"
   },
   "outputs": [],
   "source": [
    "#이미지파일과 라벨링파일 읽어오기\n",
    "from glob import glob\n",
    "img_list = glob('C:\\\\Users\\\\__\\\\Desktop\\\\data\\\\run\\\\train\\\\images\\\\*')\n",
    "txt_list = glob('C:\\\\Users\\\\__\\\\Desktop\\\\data\\\\run\\\\train\\\\labels\\\\*.txt')\n",
    "print(len(img_list), len(txt_list))"
   ]
  },
  {
   "cell_type": "code",
   "execution_count": null,
   "metadata": {
    "id": "R69YVpxqHJz7"
   },
   "outputs": [],
   "source": [
    "#yolov5 데이터로 변환\n",
    "import os \n",
    "import json\n",
    "from glob import glob\n",
    "file_list = glob('/Users/jeong-geun-yeong/data/images/train/*.json')\n",
    "\n",
    "i = 0\n",
    "for file in file_list:\n",
    "    with open(file_list[i],'r') as f:\n",
    "        json_data = json.load(f)\n",
    "    file_name = json_data['description']['image'].split('.')[0]\n",
    "    xtl = json_data['annotations']['points'][0]['xtl']\n",
    "    ytl = json_data['annotations']['points'][0]['ytl']\n",
    "    xbr = json_data['annotations']['points'][0]['xbr']\n",
    "    ybr = json_data['annotations']['points'][0]['ybr']\n",
    "\n",
    "    w = json_data['description']['width']\n",
    "    h = json_data['description']['height']\n",
    "\n",
    "    x_center = (xtl + (xbr-xtl)/2)/w\n",
    "    y_center = (ytl + (ybr-ytl)/2)/h\n",
    "    x = (xbr-xtl)/w\n",
    "    y = (ybr-ytl)/h\n",
    "\n",
    "    area = json_data['annotations']['area']\n",
    "    name = json_data['annotations']['disease']\n",
    "    risk = json_data['annotations']['risk']\n",
    "\n",
    "\n",
    "    if area == 5:\n",
    "        i = i + 1\n",
    "        continue\n",
    "    elif name == 0:\n",
    "        c = 0\n",
    "    elif name == 5:\n",
    "        c = risk\n",
    "    elif name == 6:\n",
    "        c = 3 + risk\n",
    "    fw = open('/Users/jeong-geun-yeong/data/labels/train/'+file_name+\".txt\", 'w')\n",
    "    fw.write(str(c)+' '+str(x_center)+' '+str(y_center)+' '+str(x)+' '+str(y)+'\\n')\n",
    "    f.close()\n",
    "    print(file_name)\n",
    "\n",
    "    i = i + 1"
   ]
  },
  {
   "cell_type": "code",
   "execution_count": null,
   "metadata": {
    "colab": {
     "base_uri": "https://localhost:8080/"
    },
    "id": "yhzdztVCHX2l",
    "outputId": "2605779b-fae1-4dca-b8fd-b4d0914d7e85",
    "tags": []
   },
   "outputs": [],
   "source": [
    "#이미지파일과 라벨링파일 읽어오기\n",
    "from glob import glob\n",
    "img_list = glob('/Users/jeong-geun-yeong/data/images/train/*')\n",
    "txt_list = glob('/Users/jeong-geun-yeong/data/labels/train/*.txt')\n",
    "print(len(img_list), len(txt_list))"
   ]
  },
  {
   "cell_type": "code",
   "execution_count": null,
   "metadata": {
    "colab": {
     "base_uri": "https://localhost:8080/"
    },
    "id": "iB2JI5qAiZqu",
    "outputId": "c52b4fef-ad98-495f-dc2d-49aac32f7555"
   },
   "outputs": [],
   "source": [
    "import os\n",
    "image_list = os.listdir('/content/datasets/run/train/images/')\n",
    "label_list = os.listdir('/content/datasets/run/train/labels/')\n",
    "image_list.sort()\n",
    "label_list.sort()\n",
    "txt_list.sort()\n",
    "\n",
    "file_name = []\n",
    "i = 0\n",
    "k = 0\n",
    "print(image_list)\n",
    "print(len(image_list))\n",
    "for file in label_list:\n",
    "    try:\n",
    "        if image_list[i].split('.')[0] != label_list[k].split('.')[0]:\n",
    "            os.remove(txt_list[k])\n",
    "            k = k+1\n",
    "        else:\n",
    "            if i == len(img_list):\n",
    "                os.remove(txt_list[k])\n",
    "                k = k+1\n",
    "            else:\n",
    "                i = i + 1\n",
    "                k = k + 1\n",
    "    except FileNotFoundError:\n",
    "        k = k+1\n",
    "\n",
    "        continue\n",
    "    except IndexError:\n",
    "        pass"
   ]
  },
  {
   "cell_type": "code",
   "execution_count": null,
   "metadata": {
    "colab": {
     "base_uri": "https://localhost:8080/"
    },
    "id": "Y14UdP6ljqoB",
    "outputId": "7341a832-23be-4876-adc5-67500da37012"
   },
   "outputs": [],
   "source": [
    "#이미지파일과 라벨링파일 읽어오기\n",
    "from glob import glob\n",
    "img_list = glob('/content/datasets/run/train/images/*.jpg')\n",
    "txt_list = glob('/content/datasets/run/train/labels/*.txt')\n",
    "print(len(img_list), len(txt_list))"
   ]
  },
  {
   "cell_type": "markdown",
   "metadata": {
    "id": "fAiHkxZgic5x"
   },
   "source": [
    "# VALID"
   ]
  },
  {
   "cell_type": "code",
   "execution_count": null,
   "metadata": {
    "colab": {
     "base_uri": "https://localhost:8080/"
    },
    "id": "if500wPXgrjJ",
    "outputId": "55591b77-f0e8-4c56-85b6-b9a646a240e8"
   },
   "outputs": [],
   "source": [
    "#이미지파일과 라벨링파일 읽어오기\n",
    "from glob import glob\n",
    "img_list = glob('C:\\\\Users\\\\__\\\\Desktop\\\\data\\\\run\\\\valid\\\\images\\\\*')\n",
    "txt_list = glob('C:\\\\Users\\\\__\\\\Desktop\\\\data\\\\run\\\\valid\\\\labels\\\\*')\n",
    "print(len(img_list), len(txt_list))"
   ]
  },
  {
   "cell_type": "code",
   "execution_count": null,
   "metadata": {
    "colab": {
     "base_uri": "https://localhost:8080/"
    },
    "id": "lGH6j9wwgxfV",
    "outputId": "22a05106-fc25-49b0-9ccd-3936b0d3ba74"
   },
   "outputs": [],
   "source": [
    "#줄기부분 제외\n",
    "\n",
    "img_list.sort()\n",
    "i = 0\n",
    "a = []\n",
    "try:\n",
    "    for i in range(len(img_list)):\n",
    "        if img_list[i].split('_')[7] == '05':\n",
    "            print(img_list[i])\n",
    "            os.remove(img_list[i])\n",
    "        i = i+1\n",
    "except FileNotFoundError:\n",
    "    pass\n"
   ]
  },
  {
   "cell_type": "code",
   "execution_count": null,
   "metadata": {
    "colab": {
     "base_uri": "https://localhost:8080/"
    },
    "id": "_axW0OQmMxAK",
    "outputId": "659bb7b4-3864-42c5-ff76-9cd15f51fb7f"
   },
   "outputs": [],
   "source": [
    "#이미지파일과 라벨링파일 읽어오기\n",
    "from glob import glob\n",
    "img_list = glob('C:\\\\Users\\\\__\\\\Desktop\\\\data\\\\run\\\\valid\\\\images\\\\*')\n",
    "txt_list = glob('C:\\\\Users\\\\__\\\\Desktop\\\\data\\\\run\\\\valid\\\\labels\\\\*')\n",
    "print(len(img_list), len(txt_list))"
   ]
  },
  {
   "cell_type": "code",
   "execution_count": null,
   "metadata": {
    "colab": {
     "base_uri": "https://localhost:8080/"
    },
    "id": "acx7UJiAgZiU",
    "outputId": "65b2ca1b-c8c9-4618-95b3-226e81572c53"
   },
   "outputs": [],
   "source": [
    "import os \n",
    "import json\n",
    "from glob import glob\n",
    "file_list = glob('/Users/jeong-geun-yeong/data/images/valid/*.json')\n",
    "\n",
    "i = 0\n",
    "for file in file_list:\n",
    "    with open(file_list[i],'r') as f:\n",
    "        json_data = json.load(f)\n",
    "\n",
    "    file_name = json_data['description']['image'].split('.')[0]\n",
    "    xtl = json_data['annotations']['points'][0]['xtl']\n",
    "    ytl = json_data['annotations']['points'][0]['ytl']\n",
    "    xbr = json_data['annotations']['points'][0]['xbr']\n",
    "    ybr = json_data['annotations']['points'][0]['ybr']\n",
    "\n",
    "    w = json_data['description']['width']\n",
    "    h = json_data['description']['height']\n",
    "\n",
    "    x_center = (xtl + (xbr-xtl)/2)/w\n",
    "    y_center = (ytl + (ybr-ytl)/2)/h\n",
    "    x = (xbr-xtl)/w\n",
    "    y = (ybr-ytl)/h\n",
    "\n",
    "    area = json_data['annotations']['area']\n",
    "    name = json_data['annotations']['disease']\n",
    "    risk = json_data['annotations']['risk']\n",
    "\n",
    "    if area == 5:\n",
    "        i = i + 1\n",
    "        continue    \n",
    "    elif name == 0:\n",
    "        c = 0\n",
    "    elif name == 5:\n",
    "        c = risk\n",
    "    elif name == 6:\n",
    "        c = 3 + risk\n",
    "    fw = open('/Users/jeong-geun-yeong/data/labels/valid/'+file_name+\".txt\", 'w')\n",
    "    fw.write(str(c)+' '+str(x_center)+' '+str(y_center)+' '+str(x)+' '+str(y)+'\\n')\n",
    "    f.close()\n",
    "    print(file_name)\n",
    "\n",
    "    i = i + 1"
   ]
  },
  {
   "cell_type": "code",
   "execution_count": null,
   "metadata": {
    "colab": {
     "base_uri": "https://localhost:8080/"
    },
    "id": "y9ei_FArj-Ce",
    "outputId": "3ddadb32-d317-4866-f25a-c0cfdcf940e3"
   },
   "outputs": [],
   "source": [
    "#이미지파일과 라벨링파일 읽어오기\n",
    "from glob import glob\n",
    "img_list = glob('/Users/jeong-geun-yeong/data/images/valid/*')\n",
    "txt_list = glob('/Users/jeong-geun-yeong/data/labels/valid/*')\n",
    "print(len(img_list), len(txt_list))"
   ]
  },
  {
   "cell_type": "code",
   "execution_count": null,
   "metadata": {
    "id": "uDXSvoiKMtQR"
   },
   "outputs": [],
   "source": [
    "import os\n",
    "image_list = os.listdir('/content/datasets/run/valid/images/')\n",
    "label_list = os.listdir('/content/datasets/run/valid/labels/')\n",
    "image_list.sort()\n",
    "label_list.sort()\n",
    "txt_list.sort()\n",
    "\n",
    "file_name = []\n",
    "i = 0\n",
    "k = 0\n",
    "for file in label_list:\n",
    "    if file.count(\".txt\") == 1:\n",
    "        name = file.split('.txt')[0]\n",
    "        file_name.append(name)\n",
    "    try:\n",
    "        if image_list[i].split('.')[0] != file_name[k]:\n",
    "            print(label_list[k])\n",
    "            os.remove(txt_list[k])\n",
    "            k = k+1\n",
    "        else:\n",
    "            if i == len(img_list)-1:\n",
    "                os.remove(txt_list[k])\n",
    "                k = k+1\n",
    "            else:\n",
    "                i = i + 1\n",
    "                k = k + 1\n",
    "    except FileNotFoundError:\n",
    "        pass\n",
    "\n",
    "    except IndexError:\n",
    "        pass\n"
   ]
  },
  {
   "cell_type": "code",
   "execution_count": null,
   "metadata": {
    "colab": {
     "base_uri": "https://localhost:8080/"
    },
    "id": "5IVLV21tj_eg",
    "outputId": "f69a52f7-06f8-4760-faab-105464665203"
   },
   "outputs": [],
   "source": [
    "#이미지파일과 라벨링파일 읽어오기\n",
    "from glob import glob\n",
    "img_list = glob('/content/datasets/run/valid/images/*')\n",
    "txt_list = glob('/content/datasets/run/valid/labels/*.txt')\n",
    "img_list.sort()\n",
    "txt_list.sort()\n",
    "print(len(img_list), len(txt_list))\n",
    "print(img_list)\n",
    "print(txt_list)"
   ]
  },
  {
   "cell_type": "code",
   "execution_count": null,
   "metadata": {
    "colab": {
     "base_uri": "https://localhost:8080/"
    },
    "id": "TR95czHMNC4n",
    "outputId": "316064c0-1eb8-457a-cb70-c629f864916e"
   },
   "outputs": [],
   "source": [
    "%cd /content/yolov5/\n",
    "!python train.py --img 640 --batch 32 --epochs 300 --data /content/datasets/run/data.yaml --cfg ./models/yolov5m.yaml --weights yolov5m.pt --name /content/drive/MyDrive/running/sw --cache"
   ]
  },
  {
   "cell_type": "markdown",
   "metadata": {
    "id": "r-w_TePtNODJ"
   },
   "source": [
    "train: /content/datasets/run/train/images\n",
    "val: /content/datasets/run/valid/images\n",
    "\n",
    "nc: 10\n",
    "names: ['normal\n",
    "', 'risk-1-1', 'risk-1-2', 'risk-1-3', 'risk-1-4', 'risk-2-1', 'risk-2-2', 'risk-2-3', 'risk-2-4']\n"
   ]
  },
  {
   "cell_type": "markdown",
   "metadata": {
    "id": "H8_jEFM_z6Pf"
   },
   "source": [
    "# detect\n"
   ]
  },
  {
   "cell_type": "code",
   "execution_count": null,
   "metadata": {
    "colab": {
     "base_uri": "https://localhost:8080/"
    },
    "id": "hyP5NAGioeIX",
    "outputId": "ae4a3d62-db6f-46f8-d167-5ddd94a2434e"
   },
   "outputs": [],
   "source": [
    "%cd /content/yolov5\n",
    "!python detect.py --source '/content/3bb4f8acfe5bf2007d6609eee7acadf01.jpg' --weights /content/drive/MyDrive/running/sw10/weights/best.pt"
   ]
  }
 ],
 "metadata": {
  "accelerator": "GPU",
  "colab": {
   "collapsed_sections": [
    "scPz8QfehzC-"
   ],
   "machine_shape": "hm",
   "name": "sw.ipynb",
   "provenance": []
  },
  "kernelspec": {
   "display_name": "Python 3 (ipykernel)",
   "language": "python",
   "name": "python3"
  },
  "language_info": {
   "codemirror_mode": {
    "name": "ipython",
    "version": 3
   },
   "file_extension": ".py",
   "mimetype": "text/x-python",
   "name": "python",
   "nbconvert_exporter": "python",
   "pygments_lexer": "ipython3",
   "version": "3.9.7"
  }
 },
 "nbformat": 4,
 "nbformat_minor": 4
}
