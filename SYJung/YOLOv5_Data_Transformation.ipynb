{
 "cells": [
  {
   "cell_type": "markdown",
   "metadata": {},
   "source": [
    "# yolov5 데이터로 변환"
   ]
  },
  {
   "cell_type": "code",
   "execution_count": 1,
   "metadata": {},
   "outputs": [
    {
     "name": "stdout",
     "output_type": "stream",
     "text": [
      "V006_77_1_10_05_03_12_3_8130e_20201210_58\n"
     ]
    }
   ],
   "source": [
    "import os \n",
    "import json\n",
    "from glob import glob\n",
    "file_list = glob('C:\\\\Users\\\\User\\\\Desktop\\\\dataset\\data\\\\labels\\\\valid\\\\*.json') # V006_77_1_10_05_03_12_3_8130e_20201210_58.jpeg.json\n",
    "\n",
    "i = 0\n",
    "for file in file_list:\n",
    "    with open(file_list[i],'r') as f:\n",
    "        json_data = json.load(f)\n",
    "    file_name = json_data['description']['image'].split('.')[0]\n",
    "    xtl = json_data['annotations']['points'][0]['xtl']\n",
    "    ytl = json_data['annotations']['points'][0]['ytl']\n",
    "    xbr = json_data['annotations']['points'][0]['xbr']\n",
    "    ybr = json_data['annotations']['points'][0]['ybr']\n",
    "\n",
    "    w = json_data['description']['width']\n",
    "    h = json_data['description']['height']\n",
    "\n",
    "    x_center = (xtl + (xbr-xtl)/2)/w\n",
    "    y_center = (ytl + (ybr-ytl)/2)/h\n",
    "    x = (xbr-xtl)/w\n",
    "    y = (ybr-ytl)/h\n",
    "    c = 0\n",
    "    \n",
    "    fw = open('C:\\\\Users\\\\User\\\\Desktop\\\\dataset\\\\y_valid\\\\'+file_name + \".txt\", \"w\")\n",
    "    fw.write(str(c)+' '+str(x_center)+' '+str(y_center)+' '+str(x)+' '+str(y)+'\\n')\n",
    "    f.close()\n",
    "    print(file_name)\n",
    "    \n",
    "    i = i + 1"
   ]
  },
  {
   "cell_type": "code",
   "execution_count": null,
   "metadata": {},
   "outputs": [],
   "source": []
  },
  {
   "cell_type": "code",
   "execution_count": null,
   "metadata": {},
   "outputs": [],
   "source": []
  },
  {
   "cell_type": "code",
   "execution_count": null,
   "metadata": {},
   "outputs": [],
   "source": []
  }
 ],
 "metadata": {
  "accelerator": "GPU",
  "colab": {
   "authorship_tag": "ABX9TyNfJ4ZehfjkMRIMofEvGXb8",
   "collapsed_sections": [],
   "name": "YOLOv5_Study_note.ipynb.ipynb",
   "provenance": []
  },
  "kernelspec": {
   "display_name": "Python 3 (ipykernel)",
   "language": "python",
   "name": "python3"
  },
  "language_info": {
   "codemirror_mode": {
    "name": "ipython",
    "version": 3
   },
   "file_extension": ".py",
   "mimetype": "text/x-python",
   "name": "python",
   "nbconvert_exporter": "python",
   "pygments_lexer": "ipython3",
   "version": "3.9.7"
  }
 },
 "nbformat": 4,
 "nbformat_minor": 1
}
